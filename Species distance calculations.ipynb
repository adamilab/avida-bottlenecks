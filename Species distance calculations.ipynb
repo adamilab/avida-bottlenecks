{
 "metadata": {
  "name": "ECAL 2013 Speciation"
 },
 "nbformat": 3,
 "nbformat_minor": 0,
 "worksheets": [
  {
   "cells": [
    {
     "cell_type": "code",
     "collapsed": false,
     "input": [
      "from pandas import *\n",
      "from math import *\n",
      "from itertools import *\n",
      "\n",
      "# distance between origin and end\n",
      "\n",
      "def RDistance(V1,V2):\n",
      "    D=0.0\n",
      "    v1=max(V1)\n",
      "    v2=max(V2)\n",
      "    for i in range(0,len(V1)):\n",
      "        if v1!=0.0:\n",
      "            V1[i]=V1[i]/v1\n",
      "        if v2!=0.0:\n",
      "            V2[i]=V2[i]/v2\n",
      "    for i in range(0,len(V1)):\n",
      "        D=D+(float((V1[i]-V2[i])*(V1[i]-V2[i])))\n",
      "    return sqrt(D)\n",
      "\n",
      "def minDistMatrix(early,late):\n",
      "    D=max([len(early),len(late)])\n",
      "    M=[[0.0]*D for _ in range(D)]\n",
      "    P1=permutations(range(D))\n",
      "    for i in range(len(early)):\n",
      "        for j in range(len(late)):\n",
      "            M[i][j]=RDistance(early[i],late[j])\n",
      "    minD=-1.0\n",
      "    for p1 in P1:\n",
      "        mSum=0.0\n",
      "        for i in range(D):\n",
      "            mSum=mSum+M[p1[i]][i]\n",
      "        if minD==-1.0:\n",
      "            minD=mSum\n",
      "        if mSum<minD:\n",
      "            minD=mSum\n",
      "    return minD\n",
      "\n",
      "data=read_csv(\"results.csv\", sep=\",\",na_values=[\"\",\" \"],skipfooter=0,skipinitialspace=True)\n",
      "L=len(data[\"B\"])\n",
      "BNs=[1]\n",
      "Sizes=[-1,1,5,10,20,50,100,200,300,400,500]\n",
      "for B in BNs:\n",
      "    for S in Sizes:\n",
      "        Es=[]\n",
      "        Ls=[]\n",
      "        Ds=[]\n",
      "        U=[[],[],[],[],[],[],[],[],[]]\n",
      "        for N in range(1,101):\n",
      "            early=[]\n",
      "            late=[]\n",
      "            for i in range(0,L):\n",
      "                if (int(data[\"N\"][i])==N) and (int(data[\"B\"][i])==B) and (int(data[\"S\"][i])==S):\n",
      "                    V=[]\n",
      "                    for j in range(0,9):\n",
      "                        V.append(int(data[\"R{0}\".format(j)][i]))\n",
      "                        U[j].append(int(data[\"R{0}\".format(j)][i]))\n",
      "                    if(int(data[\"T\"][i])==499999):\n",
      "                        early.append(V)\n",
      "                    if(int(data[\"T\"][i])==999999):\n",
      "                        late.append(V)\n",
      "            Ds.append(minDistMatrix(early,late))\n",
      "            Es.append(len(early))\n",
      "            Ls.append(len(late))\n",
      "        mU=[]\n",
      "        for i in range(0,9):\n",
      "            mU.append(mean(U[i]))\n",
      "        #figure()\n",
      "        #bar(range(9),mU)\n",
      "        #hist(Ds)\n",
      "        print \"B:{0} S:{1} samples:{2} E:{3} L:{4} D:{5} std:{6} stE:{7}\".format(B,S,len(Es),mean(Es),mean(Ls),mean(Ds),std(Ds),std(Ds)/sqrt(float(len(Ds))))\n"
     ],
     "language": "python",
     "metadata": {},
     "outputs": [
      {
       "output_type": "stream",
       "stream": "stdout",
       "text": [
        "B:1 S:-1 samples:100 E:3.55 L:3.51 D:2.06612624448 std:1.21843583316 stE:0.121843583316\n",
        "B:1 S:1 samples:100 E:3.55 L:3.03 D:1.92617949034 std:1.38150608699 stE:0.138150608699"
       ]
      },
      {
       "output_type": "stream",
       "stream": "stdout",
       "text": [
        "\n",
        "B:1 S:5 samples:100 E:3.55 L:3.43 D:2.25720679731 std:1.25521553267 stE:0.125521553267"
       ]
      },
      {
       "output_type": "stream",
       "stream": "stdout",
       "text": [
        "\n",
        "B:1 S:10 samples:100 E:3.55 L:3.52 D:2.17259982727 std:1.09398263517 stE:0.109398263517"
       ]
      },
      {
       "output_type": "stream",
       "stream": "stdout",
       "text": [
        "\n",
        "B:1 S:20 samples:100 E:3.46 L:3.37 D:2.02245592899 std:1.32483617737 stE:0.132483617737"
       ]
      },
      {
       "output_type": "stream",
       "stream": "stdout",
       "text": [
        "\n",
        "B:1 S:50 samples:100 E:0.0 L:0.0 D:0.0 std:0.0 stE:0.0"
       ]
      },
      {
       "output_type": "stream",
       "stream": "stdout",
       "text": [
        "\n",
        "B:1 S:100 samples:100 E:3.52 L:3.44 D:2.10982061037 std:1.12465253454 stE:0.112465253454"
       ]
      },
      {
       "output_type": "stream",
       "stream": "stdout",
       "text": [
        "\n",
        "B:1 S:200 samples:100 E:3.55 L:3.59 D:2.05839191632 std:1.26934426857 stE:0.126934426857"
       ]
      },
      {
       "output_type": "stream",
       "stream": "stdout",
       "text": [
        "\n",
        "B:1 S:300 samples:100 E:3.55 L:3.51 D:2.04638915286 std:1.18603174021 stE:0.118603174021"
       ]
      },
      {
       "output_type": "stream",
       "stream": "stdout",
       "text": [
        "\n",
        "B:1 S:400 samples:100 E:2.88 L:2.84 D:1.57093996514 std:1.28838466405 stE:0.128838466405"
       ]
      },
      {
       "output_type": "stream",
       "stream": "stdout",
       "text": [
        "\n",
        "B:1 S:500 samples:100 E:3.52 L:3.49 D:1.90510876084 std:1.14443614439 stE:0.114443614439"
       ]
      },
      {
       "output_type": "stream",
       "stream": "stdout",
       "text": [
        "\n"
       ]
      }
     ],
     "prompt_number": 9
    },
    {
     "cell_type": "code",
     "collapsed": false,
     "input": [
      "from pandas import *\n",
      "\n",
      "# between control and others distance\n",
      "\n",
      "data=read_csv(\"results.csv\", sep=\",\",na_values=[\"\",\" \"],skipfooter=0,skipinitialspace=True)\n",
      "L=len(data[\"B\"])\n",
      "BNs=[1]\n",
      "Sizes=[-1,1,5,10,20,50,100,200,300,400,500]\n",
      "for B in BNs:\n",
      "    for S in Sizes:\n",
      "        Es=[]\n",
      "        Ls=[]\n",
      "        Ds=[]\n",
      "        for N in range(1,101):\n",
      "            early=[]\n",
      "            late=[]\n",
      "            for i in range(0,L):\n",
      "                if (int(data[\"N\"][i])==N) and (int(data[\"B\"][i])==B) and (int(data[\"S\"][i])==-1) and (int(data[\"T\"][i])==999999):\n",
      "                    V=[]\n",
      "                    for j in range(0,9):\n",
      "                        V.append(int(data[\"R{0}\".format(j)][i]))\n",
      "                    early.append(V)\n",
      "                if (int(data[\"N\"][i])==N) and (int(data[\"B\"][i])==B) and (int(data[\"S\"][i])==S) and (int(data[\"T\"][i])==999999):\n",
      "                    V=[]\n",
      "                    for j in range(0,9):\n",
      "                        V.append(int(data[\"R{0}\".format(j)][i]))\n",
      "                    late.append(V)\n",
      "            #print early\n",
      "            #print late\n",
      "            Ds.append(minDistMatrix(early,late))\n",
      "            Es.append(len(early))\n",
      "            Ls.append(len(late))\n",
      "        print \"B:{0} S:{1} samples:{2} E:{3} L:{4} D:{5} std:{6} stE:{7}\".format(B,S,len(Es),mean(Es),mean(Ls),mean(Ds),std(Ds),std(Ds)/sqrt(float(len(Ds))))\n"
     ],
     "language": "python",
     "metadata": {},
     "outputs": [
      {
       "output_type": "stream",
       "stream": "stdout",
       "text": [
        "B:1 S:-1 samples:100 E:3.51 L:3.51 D:0.0 std:0.0 stE:0.0\n",
        "B:1 S:1 samples:100 E:3.51 L:3.03 D:2.14088003546 std:1.38116244306 stE:0.138116244306"
       ]
      },
      {
       "output_type": "stream",
       "stream": "stdout",
       "text": [
        "\n",
        "B:1 S:5 samples:100 E:3.51 L:3.43 D:2.18770572607 std:1.18803335921 stE:0.118803335921"
       ]
      },
      {
       "output_type": "stream",
       "stream": "stdout",
       "text": [
        "\n",
        "B:1 S:10 samples:100 E:3.51 L:3.52 D:2.19571247263 std:1.10133306706 stE:0.110133306706"
       ]
      },
      {
       "output_type": "stream",
       "stream": "stdout",
       "text": [
        "\n",
        "B:1 S:20 samples:100 E:3.51 L:3.37 D:2.05345875918 std:1.12203633009 stE:0.112203633009"
       ]
      },
      {
       "output_type": "stream",
       "stream": "stdout",
       "text": [
        "\n",
        "B:1 S:50 samples:100 E:3.51 L:0.0 D:0.0 std:0.0 stE:0.0"
       ]
      },
      {
       "output_type": "stream",
       "stream": "stdout",
       "text": [
        "\n",
        "B:1 S:100 samples:100 E:3.51 L:3.44 D:1.95067959051 std:1.07252474326 stE:0.107252474326"
       ]
      },
      {
       "output_type": "stream",
       "stream": "stdout",
       "text": [
        "\n",
        "B:1 S:200 samples:100 E:3.51 L:3.59 D:2.01892257429 std:1.03212755593 stE:0.103212755593"
       ]
      },
      {
       "output_type": "stream",
       "stream": "stdout",
       "text": [
        "\n",
        "B:1 S:300 samples:100 E:3.51 L:3.51 D:2.01031944267 std:0.974094764244 stE:0.0974094764244"
       ]
      },
      {
       "output_type": "stream",
       "stream": "stdout",
       "text": [
        "\n",
        "B:1 S:400 samples:100 E:3.51 L:2.84 D:1.53554698341 std:1.2122761212 stE:0.12122761212"
       ]
      },
      {
       "output_type": "stream",
       "stream": "stdout",
       "text": [
        "\n",
        "B:1 S:500 samples:100 E:3.51 L:3.49 D:1.82953571073 std:1.06443321123 stE:0.106443321123"
       ]
      },
      {
       "output_type": "stream",
       "stream": "stdout",
       "text": [
        "\n"
       ]
      }
     ],
     "prompt_number": 10
    },
    {
     "cell_type": "code",
     "collapsed": false,
     "input": [
      "from pandas import *\n",
      "D=[]\n",
      "for i in range(0,1000):\n",
      "    P1=[]\n",
      "    P2=[]\n",
      "    for k in range(0,4):\n",
      "        V1=[]\n",
      "        V2=[]\n",
      "        for j in range(0,9):\n",
      "            V1.append(rand())\n",
      "            V2.append(rand())\n",
      "        P1.append(V1)\n",
      "        P2.append(V2)\n",
      "    D.append(minDistMatrix(P1,P2))\n",
      "print mean(D)\n",
      "hist(D)"
     ],
     "language": "python",
     "metadata": {},
     "outputs": [
      {
       "output_type": "stream",
       "stream": "stdout",
       "text": [
        "4.47446457884\n"
       ]
      },
      {
       "output_type": "pyout",
       "prompt_number": 6,
       "text": [
        "(array([  1,   8,  36,  98, 181, 268, 245, 116,  37,  10]),\n",
        " array([ 2.88924185,  3.17167227,  3.45410268,  3.7365331 ,  4.01896351,\n",
        "        4.30139393,  4.58382435,  4.86625476,  5.14868518,  5.43111559,\n",
        "        5.71354601]),\n",
        " <a list of 10 Patch objects>)"
       ]
      },
      {
       "output_type": "display_data",
       "png": "[encoded data removed]"
      }
     ],
     "prompt_number": 6
    },
    {
     "cell_type": "code",
     "collapsed": false,
     "input": [
      "from pandas import *\n",
      "\n",
      "# within group distance\n",
      "data=read_csv(\"results.csv\", sep=\",\",na_values=[\"\",\" \"],skipfooter=0,skipinitialspace=True)\n",
      "L=len(data[\"B\"])\n",
      "BNs=[1]\n",
      "Sizes=[-1,1,5,10,20,50,100,200,300,400,500]\n",
      "for B in BNs:\n",
      "    for S in Sizes:\n",
      "        Es=[]\n",
      "        Ls=[]\n",
      "        Ds=[]\n",
      "        for N1 in range(1,101):\n",
      "            for N2 in range(1,101):\n",
      "                if N1!=N2:\n",
      "                    early=[]\n",
      "                    late=[]\n",
      "                    for i in range(0,L):\n",
      "                        if (int(data[\"N\"][i])==N1) and (int(data[\"B\"][i])==B) and (int(data[\"S\"][i])==S) and (int(data[\"T\"][i])==999999):\n",
      "                            V=[]\n",
      "                            for j in range(0,9):\n",
      "                                V.append(int(data[\"R{0}\".format(j)][i]))\n",
      "                            early.append(V)\n",
      "                        if (int(data[\"N\"][i])==N2) and (int(data[\"B\"][i])==B) and (int(data[\"S\"][i])==S) and (int(data[\"T\"][i])==999999):\n",
      "                            V=[]\n",
      "                            for j in range(0,9):\n",
      "                                V.append(int(data[\"R{0}\".format(j)][i]))\n",
      "                            late.append(V)\n",
      "                    #print early\n",
      "                    #print late\n",
      "                    Ds.append(minDistMatrix(early,late))\n",
      "                    Es.append(len(early))\n",
      "                    Ls.append(len(late))\n",
      "        print \"B:{0} S:{1} samples:{2} E:{3} L:{4} D:{5} std:{6} stE:{7}\".format(B,S,len(Es),mean(Es),mean(Ls),mean(Ds),std(Ds),std(Ds)/sqrt(float(len(Ds))))"
     ],
     "language": "python",
     "metadata": {},
     "outputs": [
      {
       "output_type": "stream",
       "stream": "stdout",
       "text": [
        "B:1 S:-1 samples:9900 E:3.51 L:3.51 D:2.60941605699 std:1.22585002238 stE:0.0123202562833\n",
        "B:1 S:1 samples:9900 E:3.03 L:3.03 D:1.94189885304 std:1.46298518851 stE:0.0147035543761"
       ]
      },
      {
       "output_type": "stream",
       "stream": "stdout",
       "text": [
        "\n",
        "B:1 S:5 samples:9900 E:3.43 L:3.43 D:2.43135107095 std:1.26446218581 stE:0.012708323127"
       ]
      },
      {
       "output_type": "stream",
       "stream": "stdout",
       "text": [
        "\n",
        "B:1 S:10 samples:9900 E:3.52 L:3.52 D:2.59766823269 std:1.18675619493 stE:0.011927348534"
       ]
      },
      {
       "output_type": "stream",
       "stream": "stdout",
       "text": [
        "\n",
        "B:1 S:20 samples:9900 E:3.37 L:3.37 D:2.45587133386 std:1.34997153888 stE:0.013567724461"
       ]
      },
      {
       "output_type": "stream",
       "stream": "stdout",
       "text": [
        "\n",
        "B:1 S:50 samples:9900 E:0.0 L:0.0 D:0.0 std:0.0 stE:0.0"
       ]
      },
      {
       "output_type": "stream",
       "stream": "stdout",
       "text": [
        "\n",
        "B:1 S:100 samples:9900 E:3.44 L:3.44 D:2.58919610765 std:1.28039201853 stE:0.0128684239698"
       ]
      },
      {
       "output_type": "stream",
       "stream": "stdout",
       "text": [
        "\n",
        "B:1 S:200 samples:9900 E:3.59 L:3.59 D:2.651858615 std:1.26581540295 stE:0.012721923471"
       ]
      },
      {
       "output_type": "stream",
       "stream": "stdout",
       "text": [
        "\n",
        "B:1 S:300 samples:9900 E:3.51 L:3.51 D:2.54032357461 std:1.20670363281 stE:0.0121278278278"
       ]
      },
      {
       "output_type": "stream",
       "stream": "stdout",
       "text": [
        "\n",
        "B:1 S:400 samples:9900 E:2.84 L:2.84 D:1.73732207944 std:1.60720070998 stE:0.0161529749024"
       ]
      },
      {
       "output_type": "stream",
       "stream": "stdout",
       "text": [
        "\n",
        "B:1 S:500 samples:9900 E:3.49 L:3.49 D:2.54820865137 std:1.29925779291 stE:0.0130580321364"
       ]
      },
      {
       "output_type": "stream",
       "stream": "stdout",
       "text": [
        "\n"
       ]
      }
     ],
     "prompt_number": 11
    },
    {
     "cell_type": "code",
     "collapsed": false,
     "input": [
      "from pandas import *\n",
      "\n",
      "# within group distance fpor the control at 499999\n",
      "data=read_csv(\"results.csv\", sep=\",\",na_values=[\"\",\" \"],skipfooter=0,skipinitialspace=True)\n",
      "L=len(data[\"B\"])\n",
      "BNs=[1]\n",
      "Sizes=[-1]\n",
      "for B in BNs:\n",
      "    for S in Sizes:\n",
      "        Es=[]\n",
      "        Ls=[]\n",
      "        Ds=[]\n",
      "        for N1 in range(1,101):\n",
      "            for N2 in range(1,101):\n",
      "                if N1!=N2:\n",
      "                    early=[]\n",
      "                    late=[]\n",
      "                    for i in range(0,L):\n",
      "                        if (int(data[\"N\"][i])==N1) and (int(data[\"B\"][i])==B) and (int(data[\"S\"][i])==S) and (int(data[\"T\"][i])==499999):\n",
      "                            V=[]\n",
      "                            for j in range(0,9):\n",
      "                                V.append(int(data[\"R{0}\".format(j)][i]))\n",
      "                            early.append(V)\n",
      "                        if (int(data[\"N\"][i])==N2) and (int(data[\"B\"][i])==B) and (int(data[\"S\"][i])==S) and (int(data[\"T\"][i])==499999):\n",
      "                            V=[]\n",
      "                            for j in range(0,9):\n",
      "                                V.append(int(data[\"R{0}\".format(j)][i]))\n",
      "                            late.append(V)\n",
      "                    #print early\n",
      "                    #print late\n",
      "                    Ds.append(minDistMatrix(early,late))\n",
      "                    Es.append(len(early))\n",
      "                    Ls.append(len(late))\n",
      "        print \"B:{0} S:{1} samples:{2} E:{3} L:{4} D:{5} std:{6} stE:{7}\".format(B,S,len(Es),mean(Es),mean(Ls),mean(Ds),std(Ds),std(Ds)/sqrt(float(len(Ds))))"
     ],
     "language": "python",
     "metadata": {},
     "outputs": [
      {
       "output_type": "stream",
       "stream": "stdout",
       "text": [
        "B:1 S:-1 samples:9900 E:3.55 L:3.55 D:2.66693746104 std:1.2472742956 stE:0.0125355783308\n"
       ]
      }
     ],
     "prompt_number": 12
    },
    {
     "cell_type": "code",
     "collapsed": false,
     "input": [
      "from pandas import *\n",
      "from mpltools import style\n",
      "style.use(['grayscale', 'pof'])\n",
      "N=[-1,1,5,10,20,100,200,300,400,500]\n",
      "betweenEarlyAndLateGroupsTable=[2.06612624448, 1.92617949034, 2.25720679731,    2.17259982727, 2.02245592899,  2.10982061037 ,2.05839191632, 2.04638915286, 1.57093996514, 1.90510876084]\n",
      "betweenEarlyAndLateGroupsError=[0.121843583316, 0.138150608699, 0.125521553267, 0.109398263517, 0.132483617737, 0.112465253454, 0.126934426857 ,0.118603174021, 0.128838466405, 0.114443614439]\n",
      "for i in range(len(betweenEarlyAndLateGroupsError)):\n",
      "    betweenEarlyAndLateGroupsError[i]=2.0*betweenEarlyAndLateGroupsError[i]\n",
      "betweenLateControlAndLateBottleneckTable=[0,2.14088003546,2.18770572607,2.19571247263,2.05345875918,1.95067959051,2.01892257429,2.01031944267,1.53554698341,1.82953571073]\n",
      "betweenLateControlAndLateBottleneckError=[0,0.138116244306,0.118803335921,0.110133306706,0.112203633009,0.107252474326,0.103212755593,0.0974094764244,0.12122761212,0.106443321123]\n",
      "\n",
      "withinLateGroupTable=[2.60941605699,1.94189885304,2.43135107095,2.59766823269,2.45587133386,2.58919610765,2.651858615,2.54032357461,1.73732207944,2.54820865137]\n",
      "withinLateGroupError=[0.0123202562833,0.0147035543761,0.012708323127,0.011927348534,0.013567724461,0.0128684239698,0.012721923471,0.0121278278278,0.0161529749024,0.0130580321364]\n",
      "\n",
      "figure()\n",
      "errorbar(range(10),betweenEarlyAndLateGroupsTable,betweenEarlyAndLateGroupsError,fmt='x')\n",
      "xlim(-0.5,9.5)\n",
      "ylim(1.0,3.0)\n",
      "xlabel(\"Bottleneck Size\")\n",
      "ylabel(u'$Difference$')\n",
      "xticks(range(10),[\"C\",\"1\",\"5\",\"10\",\"20\",\"100\",\"200\",\"300\",\"400\",\"500\"],fontsize=8)\n",
      "savefig(\"earlyVsLate.pdf\")\n",
      "figure()\n",
      "errorbar(range(9),betweenLateControlAndLateBottleneckTable[1:10],betweenLateControlAndLateBottleneckError[1:10],fmt='x')\n",
      "xlim(-0.5,8.5)\n",
      "ylim(1.0,3.0)\n",
      "xlabel(\"Bottleneck Size\")\n",
      "ylabel(u'$Difference$')\n",
      "\n",
      "xticks(range(10),[\"1\",\"5\",\"10\",\"20\",\"100\",\"200\",\"300\",\"400\",\"500\"],fontsize=8)\n",
      "savefig(\"LateVsLate.pdf\")\n",
      "\n",
      "figure()\n",
      "errorbar(range(10),withinLateGroupTable,withinLateGroupError,fmt=\"x\")\n",
      "xlim(-0.5,9.5)\n",
      "ylim(1.0,3.0)\n",
      "xlabel(\"Bottleneck Size\")\n",
      "ylabel(u'$Difference$')\n",
      "xticks(range(10),[\"C\",\"1\",\"5\",\"10\",\"20\",\"100\",\"200\",\"300\",\"400\",\"500\"],fontsize=8)\n",
      "savefig(\"withinLate.pdf\")\n",
      "\n"
     ],
     "language": "python",
     "metadata": {},
     "outputs": [
      {
       "output_type": "display_data",
       "png": "[encoded data removed]"
      },
      {
       "output_type": "display_data",
       "png": "[encoded data removed]"
      },
      {
       "output_type": "display_data",
       "png": "[encoded data removed]"
      }
     ],
     "prompt_number": 47
    },
    {
     "cell_type": "code",
     "collapsed": false,
     "input": [
      "\n",
      "import matplotlib.pyplot as plt\n",
      "resUsage = []\n",
      "with open(\"avida-speciation/ecotypes.txt\", \"r\") as infile:\n",
      "    for line in infile:\n",
      "        treatment = []\n",
      "        for usage in line.split()[1:]:\n",
      "            treatment.append(float(usage))\n",
      "            \n",
      "        resUsage.insert(0, treatment)\n",
      "fig = figure(figsize=(7,3.5))\n",
      "ax = fig.add_subplot(111)\n",
      "cax = ax.imshow(resUsage, interpolation=\"nearest\", aspect=0.56, vmin=0.02, vmax=0.22)\n",
      "cbar = fig.colorbar(cax, ticks=arange(0.05, 0.25, 0.05))\n",
      "cbytl = []\n",
      "for i in arange(5, 25, 5):\n",
      "    cbytl.append(str(i) + \"%\")\n",
      "cbar.ax.set_yticklabels(cbytl)\n",
      "cbar.ax.tick_params(labelsize=12)\n",
      "for t in ax.xaxis.get_major_ticks(): \n",
      "    t.tick1On = False\n",
      "    t.tick2On = False\n",
      "    \n",
      "for t in ax.yaxis.get_major_ticks(): \n",
      "    t.tick1On = False\n",
      "    t.tick2On = False\n",
      "xlim(-0.5, 8.5)\n",
      "ylim(-0.5, 9.5)\n",
      "xticks(range(9), [\"NOT\", \"NAND\", \"AND\", \"ORNOT\", \"OR\", \"ANDNOT\", \"NOR\", \"XOR\", \"EQU\"], fontsize=12, rotation=90)\n",
      "yticks(range(10), [\"500\", \"400\", \"300\", \"200\", \"100\", \"20\", \"10\", \"5\", \"1\", \"C\"], fontsize=12)\n",
      "xlabel(\"Resource\", fontsize=14)\n",
      "ylabel(\"Bottleneck Size\", fontsize=14)\n",
      "[i.set_linewidth(3) for i in ax.spines.itervalues()]\n",
      "for i in arange(0.5, 9, 1.0):\n",
      "    axvline(x=i, color=\"black\", lw=3)\n",
      "    axhline(y=i, color=\"black\", lw=3)\n",
      "    \n",
      "savefig(\"avida-speciation/ResourcesUsed.pdf\", bbox_inches=\"tight\")"
     ],
     "language": "python",
     "metadata": {},
     "outputs": []
    }
   ],
   "metadata": {}
  }
 ]
}